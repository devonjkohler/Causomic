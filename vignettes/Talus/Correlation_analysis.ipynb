{
 "cells": [
  {
   "cell_type": "markdown",
   "id": "a6ef2bdb-dae2-4994-8cfd-d70627caef99",
   "metadata": {},
   "source": [
    "# Talus Data Correlation Analysis\n",
    "\n",
    "Look at how proteins are correlated across treatments.\n",
    "\n",
    "See if they are generally in agreement or if correlations vary wildly."
   ]
  },
  {
   "cell_type": "code",
   "execution_count": 39,
   "id": "2b7e06bc-6290-420d-aa05-de8be7605e31",
   "metadata": {},
   "outputs": [],
   "source": [
    "import pandas as pd\n",
    "import matplotlib.pyplot as plt\n",
    "import MScausality.data_analysis.gene_set as gs"
   ]
  },
  {
   "cell_type": "markdown",
   "id": "00884a04-c1b5-4532-a647-793a94f81a62",
   "metadata": {},
   "source": [
    "## Load data"
   ]
  },
  {
   "cell_type": "code",
   "execution_count": 2,
   "id": "e8d56403-06ff-48f8-8b0a-ad1526b73327",
   "metadata": {},
   "outputs": [],
   "source": [
    "msstats_data = pd.read_csv(\"../../data/Talus/processed_data/ProteinLevelData.csv\")"
   ]
  },
  {
   "cell_type": "code",
   "execution_count": 4,
   "id": "0e8171eb-dd2b-48a0-bf18-d4319fd85563",
   "metadata": {},
   "outputs": [
    {
     "data": {
      "text/html": [
       "<div>\n",
       "<style scoped>\n",
       "    .dataframe tbody tr th:only-of-type {\n",
       "        vertical-align: middle;\n",
       "    }\n",
       "\n",
       "    .dataframe tbody tr th {\n",
       "        vertical-align: top;\n",
       "    }\n",
       "\n",
       "    .dataframe thead th {\n",
       "        text-align: right;\n",
       "    }\n",
       "</style>\n",
       "<table border=\"1\" class=\"dataframe\">\n",
       "  <thead>\n",
       "    <tr style=\"text-align: right;\">\n",
       "      <th></th>\n",
       "      <th>RUN</th>\n",
       "      <th>Protein</th>\n",
       "      <th>LogIntensities</th>\n",
       "      <th>originalRUN</th>\n",
       "      <th>GROUP</th>\n",
       "      <th>SUBJECT</th>\n",
       "      <th>TotalGroupMeasurements</th>\n",
       "      <th>NumMeasuredFeature</th>\n",
       "      <th>MissingPercentage</th>\n",
       "      <th>more50missing</th>\n",
       "      <th>NumImputedFeature</th>\n",
       "    </tr>\n",
       "  </thead>\n",
       "  <tbody>\n",
       "    <tr>\n",
       "      <th>0</th>\n",
       "      <td>1</td>\n",
       "      <td>1433B_HUMAN</td>\n",
       "      <td>12.873423</td>\n",
       "      <td>230719_THP-1_Chrom_end2end_Plate1_DMSO_A02_DIA</td>\n",
       "      <td>DMSO</td>\n",
       "      <td>2</td>\n",
       "      <td>1210</td>\n",
       "      <td>10</td>\n",
       "      <td>0.0</td>\n",
       "      <td>False</td>\n",
       "      <td>0</td>\n",
       "    </tr>\n",
       "    <tr>\n",
       "      <th>1</th>\n",
       "      <td>2</td>\n",
       "      <td>1433B_HUMAN</td>\n",
       "      <td>12.866217</td>\n",
       "      <td>230719_THP-1_Chrom_end2end_Plate1_DMSO_A05_DIA</td>\n",
       "      <td>DMSO</td>\n",
       "      <td>5</td>\n",
       "      <td>1210</td>\n",
       "      <td>10</td>\n",
       "      <td>0.0</td>\n",
       "      <td>False</td>\n",
       "      <td>0</td>\n",
       "    </tr>\n",
       "    <tr>\n",
       "      <th>2</th>\n",
       "      <td>3</td>\n",
       "      <td>1433B_HUMAN</td>\n",
       "      <td>12.686827</td>\n",
       "      <td>230719_THP-1_Chrom_end2end_Plate1_DMSO_A10_DIA</td>\n",
       "      <td>DMSO</td>\n",
       "      <td>10</td>\n",
       "      <td>1210</td>\n",
       "      <td>10</td>\n",
       "      <td>0.0</td>\n",
       "      <td>False</td>\n",
       "      <td>0</td>\n",
       "    </tr>\n",
       "    <tr>\n",
       "      <th>3</th>\n",
       "      <td>4</td>\n",
       "      <td>1433B_HUMAN</td>\n",
       "      <td>12.625462</td>\n",
       "      <td>230719_THP-1_Chrom_end2end_Plate1_DMSO_A12_DIA</td>\n",
       "      <td>DMSO</td>\n",
       "      <td>12</td>\n",
       "      <td>1210</td>\n",
       "      <td>10</td>\n",
       "      <td>0.0</td>\n",
       "      <td>False</td>\n",
       "      <td>0</td>\n",
       "    </tr>\n",
       "    <tr>\n",
       "      <th>4</th>\n",
       "      <td>5</td>\n",
       "      <td>1433B_HUMAN</td>\n",
       "      <td>12.538365</td>\n",
       "      <td>230719_THP-1_Chrom_end2end_Plate1_DMSO_B01_DIA</td>\n",
       "      <td>DMSO</td>\n",
       "      <td>13</td>\n",
       "      <td>1210</td>\n",
       "      <td>10</td>\n",
       "      <td>0.0</td>\n",
       "      <td>False</td>\n",
       "      <td>0</td>\n",
       "    </tr>\n",
       "  </tbody>\n",
       "</table>\n",
       "</div>"
      ],
      "text/plain": [
       "   RUN      Protein  LogIntensities  \\\n",
       "0    1  1433B_HUMAN       12.873423   \n",
       "1    2  1433B_HUMAN       12.866217   \n",
       "2    3  1433B_HUMAN       12.686827   \n",
       "3    4  1433B_HUMAN       12.625462   \n",
       "4    5  1433B_HUMAN       12.538365   \n",
       "\n",
       "                                      originalRUN GROUP  SUBJECT  \\\n",
       "0  230719_THP-1_Chrom_end2end_Plate1_DMSO_A02_DIA  DMSO        2   \n",
       "1  230719_THP-1_Chrom_end2end_Plate1_DMSO_A05_DIA  DMSO        5   \n",
       "2  230719_THP-1_Chrom_end2end_Plate1_DMSO_A10_DIA  DMSO       10   \n",
       "3  230719_THP-1_Chrom_end2end_Plate1_DMSO_A12_DIA  DMSO       12   \n",
       "4  230719_THP-1_Chrom_end2end_Plate1_DMSO_B01_DIA  DMSO       13   \n",
       "\n",
       "   TotalGroupMeasurements  NumMeasuredFeature  MissingPercentage  \\\n",
       "0                    1210                  10                0.0   \n",
       "1                    1210                  10                0.0   \n",
       "2                    1210                  10                0.0   \n",
       "3                    1210                  10                0.0   \n",
       "4                    1210                  10                0.0   \n",
       "\n",
       "   more50missing  NumImputedFeature  \n",
       "0          False                  0  \n",
       "1          False                  0  \n",
       "2          False                  0  \n",
       "3          False                  0  \n",
       "4          False                  0  "
      ]
     },
     "execution_count": 4,
     "metadata": {},
     "output_type": "execute_result"
    }
   ],
   "source": [
    "msstats_data.head()"
   ]
  },
  {
   "cell_type": "markdown",
   "id": "3bcd33af-d1c2-4fbd-9e92-4359cf071988",
   "metadata": {},
   "source": [
    "## Calculate correlations by group"
   ]
  },
  {
   "cell_type": "code",
   "execution_count": 6,
   "id": "7652d2c3-5a95-4b0e-8ac7-b108f2002e10",
   "metadata": {},
   "outputs": [],
   "source": [
    "dmso_only = msstats_data.loc[msstats_data[\"GROUP\"] == \"DMSO\"]\n",
    "dmso_dbet = msstats_data.loc[msstats_data[\"GROUP\"].isin([\"DMSO\", \"DbET6\"])]"
   ]
  },
  {
   "cell_type": "code",
   "execution_count": 14,
   "id": "62ebde2f-9446-4573-ad84-ad2ee323cee1",
   "metadata": {},
   "outputs": [
    {
     "name": "stdout",
     "output_type": "stream",
     "text": [
      "Correlation matrix for pearson:\n",
      "Correlation matrix for pearson:\n",
      "Correlation matrix for pearson:\n"
     ]
    }
   ],
   "source": [
    "dmso_only_input = gs.prep_msstats_data(dmso_only, gene_map=None, parse_gene=True)\n",
    "dmso_only_input = dmso_only_input.reset_index(drop=True)\n",
    "dmso_only_input.columns.name = None\n",
    "dmso_corr_data = gs.gen_correlation_matrix(dmso_only_input, methods=[\"pearson\"], abs_corr=True)\n",
    "\n",
    "dmso_dbet_input = gs.prep_msstats_data(dmso_dbet, gene_map=None, parse_gene=True)\n",
    "dmso_dbet_input = dmso_dbet_input.reset_index(drop=True)\n",
    "dmso_dbet_input.columns.name = None\n",
    "dmso_dbet_corr_data = gs.gen_correlation_matrix(dmso_dbet_input, methods=[\"pearson\"], abs_corr=True)\n",
    "\n",
    "all_input = gs.prep_msstats_data(msstats_data, gene_map=None, parse_gene=True)\n",
    "all_input = all_input.reset_index(drop=True)\n",
    "all_input.columns.name = None\n",
    "all_corr_data = gs.gen_correlation_matrix(all_input, methods=[\"pearson\"], abs_corr=True)"
   ]
  },
  {
   "cell_type": "code",
   "execution_count": 15,
   "id": "ac027246-4ffc-44ed-98d0-2110aa3b0daf",
   "metadata": {},
   "outputs": [],
   "source": [
    "dmso_dbet_corr_data = dmso_dbet_corr_data[\"pearson\"].rename(columns={\"value\": \"DMSO_DBET\"})\n",
    "dmso_corr_data = dmso_corr_data[\"pearson\"].rename(columns={\"value\": \"DMSO\"})\n",
    "all_corr_data = all_corr_data[\"pearson\"].rename(columns={\"value\": \"All\"})\n",
    "\n",
    "merged_data = pd.merge(dmso_corr_data, dmso_dbet_corr_data, how=\"outer\", on=\"index\")\n",
    "merged_data = pd.merge(merged_data, all_corr_data, how=\"outer\", on=\"index\")"
   ]
  },
  {
   "cell_type": "code",
   "execution_count": 16,
   "id": "e8ac58a6-d5ca-4287-acf7-90bdd8cc256a",
   "metadata": {},
   "outputs": [],
   "source": [
    "merged_data.loc[:, \"diff\"] = merged_data.loc[:, \"All\"] - merged_data.loc[:, \"DMSO\"]"
   ]
  },
  {
   "cell_type": "code",
   "execution_count": 17,
   "id": "f113eb2a-6001-47f7-8285-34b71e0dc156",
   "metadata": {},
   "outputs": [
    {
     "data": {
      "text/plain": [
       "<Axes: >"
      ]
     },
     "execution_count": 17,
     "metadata": {},
     "output_type": "execute_result"
    },
    {
     "data": {
      "image/png": "[encoded data removed]",
      "text/plain": [
       "<Figure size 640x480 with 1 Axes>"
      ]
     },
     "metadata": {},
     "output_type": "display_data"
    }
   ],
   "source": [
    "merged_data.loc[:, \"diff\"].hist(bins=120)"
   ]
  },
  {
   "cell_type": "code",
   "execution_count": 19,
   "id": "e17327b9-f6f7-43c8-b7ab-f38f60174f48",
   "metadata": {},
   "outputs": [
    {
     "data": {
      "text/plain": [
       "<Axes: >"
      ]
     },
     "execution_count": 19,
     "metadata": {},
     "output_type": "execute_result"
    },
    {
     "data": {
      "image/png": "[encoded data removed]",
      "text/plain": [
       "<Figure size 640x480 with 1 Axes>"
      ]
     },
     "metadata": {},
     "output_type": "display_data"
    }
   ],
   "source": [
    "merged_data.loc[:, \"DMSO\"].hist(bins=120)"
   ]
  },
  {
   "cell_type": "code",
   "execution_count": 45,
   "id": "a577d0d1-9585-4a45-a0d7-314f00fd0533",
   "metadata": {},
   "outputs": [
    {
     "name": "stderr",
     "output_type": "stream",
     "text": [
      "/tmp/ipykernel_6385/1742998582.py:1: FutureWarning: Logical ops (and, or, xor) between Pandas objects and dtype-less sequences (e.g. list, tuple) are deprecated and will raise in a future version. Wrap the object in a Series, Index, or np.array before operating instead.\n",
      "  merged_data.loc[(merged_data[\"DMSO\"] > .6) & ([\"BRD2\" in i for i in merged_data[\"index\"].values])]\n"
     ]
    },
    {
     "data": {
      "text/html": [
       "<div>\n",
       "<style scoped>\n",
       "    .dataframe tbody tr th:only-of-type {\n",
       "        vertical-align: middle;\n",
       "    }\n",
       "\n",
       "    .dataframe tbody tr th {\n",
       "        vertical-align: top;\n",
       "    }\n",
       "\n",
       "    .dataframe thead th {\n",
       "        text-align: right;\n",
       "    }\n",
       "</style>\n",
       "<table border=\"1\" class=\"dataframe\">\n",
       "  <thead>\n",
       "    <tr style=\"text-align: right;\">\n",
       "      <th></th>\n",
       "      <th>DMSO</th>\n",
       "      <th>index</th>\n",
       "      <th>DMSO_DBET</th>\n",
       "      <th>All</th>\n",
       "      <th>diff</th>\n",
       "    </tr>\n",
       "  </thead>\n",
       "  <tbody>\n",
       "    <tr>\n",
       "      <th>10443</th>\n",
       "      <td>0.618841</td>\n",
       "      <td>(1433G, BRD2)</td>\n",
       "      <td>0.350445</td>\n",
       "      <td>0.375470</td>\n",
       "      <td>-0.243371</td>\n",
       "    </tr>\n",
       "    <tr>\n",
       "      <th>20430</th>\n",
       "      <td>0.603414</td>\n",
       "      <td>(1433T, BRD2)</td>\n",
       "      <td>0.322322</td>\n",
       "      <td>0.307068</td>\n",
       "      <td>-0.296347</td>\n",
       "    </tr>\n",
       "    <tr>\n",
       "      <th>157771</th>\n",
       "      <td>0.935737</td>\n",
       "      <td>(AATM, BRD2)</td>\n",
       "      <td>0.935737</td>\n",
       "      <td>0.501798</td>\n",
       "      <td>-0.433939</td>\n",
       "    </tr>\n",
       "    <tr>\n",
       "      <th>187524</th>\n",
       "      <td>0.618211</td>\n",
       "      <td>(ABCA3, BRD2)</td>\n",
       "      <td>0.318753</td>\n",
       "      <td>0.358843</td>\n",
       "      <td>-0.259367</td>\n",
       "    </tr>\n",
       "    <tr>\n",
       "      <th>242495</th>\n",
       "      <td>0.611276</td>\n",
       "      <td>(ABI1, BRD2)</td>\n",
       "      <td>0.320264</td>\n",
       "      <td>0.344558</td>\n",
       "      <td>-0.266718</td>\n",
       "    </tr>\n",
       "    <tr>\n",
       "      <th>...</th>\n",
       "      <td>...</td>\n",
       "      <td>...</td>\n",
       "      <td>...</td>\n",
       "      <td>...</td>\n",
       "      <td>...</td>\n",
       "    </tr>\n",
       "    <tr>\n",
       "      <th>24422435</th>\n",
       "      <td>0.696886</td>\n",
       "      <td>(ZFR, BRD2)</td>\n",
       "      <td>0.339612</td>\n",
       "      <td>0.376205</td>\n",
       "      <td>-0.320681</td>\n",
       "    </tr>\n",
       "    <tr>\n",
       "      <th>24542330</th>\n",
       "      <td>0.620643</td>\n",
       "      <td>(ZN207, BRD2)</td>\n",
       "      <td>0.336930</td>\n",
       "      <td>0.337285</td>\n",
       "      <td>-0.283358</td>\n",
       "    </tr>\n",
       "    <tr>\n",
       "      <th>24697167</th>\n",
       "      <td>0.725067</td>\n",
       "      <td>(ZN598, BRD2)</td>\n",
       "      <td>0.311546</td>\n",
       "      <td>0.355623</td>\n",
       "      <td>-0.369444</td>\n",
       "    </tr>\n",
       "    <tr>\n",
       "      <th>24727152</th>\n",
       "      <td>0.620589</td>\n",
       "      <td>(ZN638, BRD2)</td>\n",
       "      <td>0.387253</td>\n",
       "      <td>0.390426</td>\n",
       "      <td>-0.230163</td>\n",
       "    </tr>\n",
       "    <tr>\n",
       "      <th>24801951</th>\n",
       "      <td>0.617847</td>\n",
       "      <td>(ZN787, BRD2)</td>\n",
       "      <td>0.335814</td>\n",
       "      <td>0.344427</td>\n",
       "      <td>-0.273420</td>\n",
       "    </tr>\n",
       "  </tbody>\n",
       "</table>\n",
       "<p>688 rows × 5 columns</p>\n",
       "</div>"
      ],
      "text/plain": [
       "              DMSO          index  DMSO_DBET       All      diff\n",
       "10443     0.618841  (1433G, BRD2)   0.350445  0.375470 -0.243371\n",
       "20430     0.603414  (1433T, BRD2)   0.322322  0.307068 -0.296347\n",
       "157771    0.935737   (AATM, BRD2)   0.935737  0.501798 -0.433939\n",
       "187524    0.618211  (ABCA3, BRD2)   0.318753  0.358843 -0.259367\n",
       "242495    0.611276   (ABI1, BRD2)   0.320264  0.344558 -0.266718\n",
       "...            ...            ...        ...       ...       ...\n",
       "24422435  0.696886    (ZFR, BRD2)   0.339612  0.376205 -0.320681\n",
       "24542330  0.620643  (ZN207, BRD2)   0.336930  0.337285 -0.283358\n",
       "24697167  0.725067  (ZN598, BRD2)   0.311546  0.355623 -0.369444\n",
       "24727152  0.620589  (ZN638, BRD2)   0.387253  0.390426 -0.230163\n",
       "24801951  0.617847  (ZN787, BRD2)   0.335814  0.344427 -0.273420\n",
       "\n",
       "[688 rows x 5 columns]"
      ]
     },
     "execution_count": 45,
     "metadata": {},
     "output_type": "execute_result"
    }
   ],
   "source": [
    "merged_data.loc[(merged_data[\"DMSO\"] > .6) & ([\"BRD2\" in i for i in merged_data[\"index\"].values])]"
   ]
  },
  {
   "cell_type": "code",
   "execution_count": 46,
   "id": "620e329d-bdfa-484e-99f4-fcb599570056",
   "metadata": {},
   "outputs": [
    {
     "data": {
      "text/html": [
       "<div>\n",
       "<style scoped>\n",
       "    .dataframe tbody tr th:only-of-type {\n",
       "        vertical-align: middle;\n",
       "    }\n",
       "\n",
       "    .dataframe tbody tr th {\n",
       "        vertical-align: top;\n",
       "    }\n",
       "\n",
       "    .dataframe thead th {\n",
       "        text-align: right;\n",
       "    }\n",
       "</style>\n",
       "<table border=\"1\" class=\"dataframe\">\n",
       "  <thead>\n",
       "    <tr style=\"text-align: right;\">\n",
       "      <th></th>\n",
       "      <th>RUN</th>\n",
       "      <th>Protein</th>\n",
       "      <th>LogIntensities</th>\n",
       "      <th>originalRUN</th>\n",
       "      <th>GROUP</th>\n",
       "      <th>SUBJECT</th>\n",
       "      <th>TotalGroupMeasurements</th>\n",
       "      <th>NumMeasuredFeature</th>\n",
       "      <th>MissingPercentage</th>\n",
       "      <th>more50missing</th>\n",
       "      <th>NumImputedFeature</th>\n",
       "    </tr>\n",
       "  </thead>\n",
       "  <tbody>\n",
       "    <tr>\n",
       "      <th>0</th>\n",
       "      <td>1</td>\n",
       "      <td>1433B</td>\n",
       "      <td>12.873423</td>\n",
       "      <td>230719_THP-1_Chrom_end2end_Plate1_DMSO_A02_DIA</td>\n",
       "      <td>DMSO</td>\n",
       "      <td>2</td>\n",
       "      <td>1210</td>\n",
       "      <td>10</td>\n",
       "      <td>0.0</td>\n",
       "      <td>False</td>\n",
       "      <td>0</td>\n",
       "    </tr>\n",
       "    <tr>\n",
       "      <th>1</th>\n",
       "      <td>2</td>\n",
       "      <td>1433B</td>\n",
       "      <td>12.866217</td>\n",
       "      <td>230719_THP-1_Chrom_end2end_Plate1_DMSO_A05_DIA</td>\n",
       "      <td>DMSO</td>\n",
       "      <td>5</td>\n",
       "      <td>1210</td>\n",
       "      <td>10</td>\n",
       "      <td>0.0</td>\n",
       "      <td>False</td>\n",
       "      <td>0</td>\n",
       "    </tr>\n",
       "    <tr>\n",
       "      <th>2</th>\n",
       "      <td>3</td>\n",
       "      <td>1433B</td>\n",
       "      <td>12.686827</td>\n",
       "      <td>230719_THP-1_Chrom_end2end_Plate1_DMSO_A10_DIA</td>\n",
       "      <td>DMSO</td>\n",
       "      <td>10</td>\n",
       "      <td>1210</td>\n",
       "      <td>10</td>\n",
       "      <td>0.0</td>\n",
       "      <td>False</td>\n",
       "      <td>0</td>\n",
       "    </tr>\n",
       "    <tr>\n",
       "      <th>3</th>\n",
       "      <td>4</td>\n",
       "      <td>1433B</td>\n",
       "      <td>12.625462</td>\n",
       "      <td>230719_THP-1_Chrom_end2end_Plate1_DMSO_A12_DIA</td>\n",
       "      <td>DMSO</td>\n",
       "      <td>12</td>\n",
       "      <td>1210</td>\n",
       "      <td>10</td>\n",
       "      <td>0.0</td>\n",
       "      <td>False</td>\n",
       "      <td>0</td>\n",
       "    </tr>\n",
       "    <tr>\n",
       "      <th>4</th>\n",
       "      <td>5</td>\n",
       "      <td>1433B</td>\n",
       "      <td>12.538365</td>\n",
       "      <td>230719_THP-1_Chrom_end2end_Plate1_DMSO_B01_DIA</td>\n",
       "      <td>DMSO</td>\n",
       "      <td>13</td>\n",
       "      <td>1210</td>\n",
       "      <td>10</td>\n",
       "      <td>0.0</td>\n",
       "      <td>False</td>\n",
       "      <td>0</td>\n",
       "    </tr>\n",
       "  </tbody>\n",
       "</table>\n",
       "</div>"
      ],
      "text/plain": [
       "   RUN Protein  LogIntensities  \\\n",
       "0    1   1433B       12.873423   \n",
       "1    2   1433B       12.866217   \n",
       "2    3   1433B       12.686827   \n",
       "3    4   1433B       12.625462   \n",
       "4    5   1433B       12.538365   \n",
       "\n",
       "                                      originalRUN GROUP  SUBJECT  \\\n",
       "0  230719_THP-1_Chrom_end2end_Plate1_DMSO_A02_DIA  DMSO        2   \n",
       "1  230719_THP-1_Chrom_end2end_Plate1_DMSO_A05_DIA  DMSO        5   \n",
       "2  230719_THP-1_Chrom_end2end_Plate1_DMSO_A10_DIA  DMSO       10   \n",
       "3  230719_THP-1_Chrom_end2end_Plate1_DMSO_A12_DIA  DMSO       12   \n",
       "4  230719_THP-1_Chrom_end2end_Plate1_DMSO_B01_DIA  DMSO       13   \n",
       "\n",
       "   TotalGroupMeasurements  NumMeasuredFeature  MissingPercentage  \\\n",
       "0                    1210                  10                0.0   \n",
       "1                    1210                  10                0.0   \n",
       "2                    1210                  10                0.0   \n",
       "3                    1210                  10                0.0   \n",
       "4                    1210                  10                0.0   \n",
       "\n",
       "   more50missing  NumImputedFeature  \n",
       "0          False                  0  \n",
       "1          False                  0  \n",
       "2          False                  0  \n",
       "3          False                  0  \n",
       "4          False                  0  "
      ]
     },
     "execution_count": 46,
     "metadata": {},
     "output_type": "execute_result"
    }
   ],
   "source": [
    "msstats_data.head()"
   ]
  },
  {
   "cell_type": "code",
   "execution_count": 48,
   "id": "02452584-4320-4215-90ce-b61b34c018f2",
   "metadata": {},
   "outputs": [
    {
     "data": {
      "text/plain": [
       "<matplotlib.collections.PathCollection at 0x7fc8290c85e0>"
      ]
     },
     "execution_count": 48,
     "metadata": {},
     "output_type": "execute_result"
    },
    {
     "data": {
      "image/png": "[encoded data removed]",
      "text/plain": [
       "<Figure size 640x480 with 1 Axes>"
      ]
     },
     "metadata": {},
     "output_type": "display_data"
    }
   ],
   "source": [
    "fig, ax = plt.subplots()\n",
    "\n",
    "piv_data = pd.pivot(dmso_only.loc[:, [\"Protein\", \"RUN\", \"LogIntensities\"]], columns=\"Protein\", index=\"RUN\", values=\"LogIntensities\")\n",
    "piv_data.head()\n",
    "ax.scatter(piv_data[\"ZN598\"], piv_data[\"BRD2\"])"
   ]
  },
  {
   "cell_type": "code",
   "execution_count": 7,
   "id": "77c268d0-15f8-4c53-9361-07cb109f6f6d",
   "metadata": {
    "scrolled": true
   },
   "outputs": [
    {
     "name": "stdout",
     "output_type": "stream",
     "text": [
      "DMSO start\n",
      "Correlation matrix for pearson:\n",
      "DMSO finished\n",
      "DbET6 start\n",
      "Correlation matrix for pearson:\n",
      "DbET6 finished\n",
      "Jakafi start\n",
      "Correlation matrix for pearson:\n",
      "Jakafi finished\n",
      "K784-3183 start\n",
      "Correlation matrix for pearson:\n",
      "K784-3183 finished\n",
      "K784-3670 start\n",
      "Correlation matrix for pearson:\n",
      "K784-3670 finished\n",
      "K975 start\n",
      "Correlation matrix for pearson:\n",
      "K975 finished\n",
      "Nuc start\n",
      "Correlation matrix for pearson:\n",
      "Nuc finished\n",
      "PF477736 start\n",
      "Correlation matrix for pearson:\n",
      "PF477736 finished\n",
      "VE-821 start\n",
      "Correlation matrix for pearson:\n",
      "VE-821 finished\n"
     ]
    }
   ],
   "source": [
    "groups = msstats_data.loc[:, \"GROUP\"].unique()\n",
    "corr_info = dict()\n",
    "\n",
    "for g in groups[:-1]:\n",
    "\n",
    "    print(\"{} start\".format(g))\n",
    "    temp = msstats_data.loc[msstats_data[\"GROUP\"] == g]\n",
    "\n",
    "    input_data = gs.prep_msstats_data(temp, gene_map=None, parse_gene=True)\n",
    "    input_data = input_data.reset_index(drop=True)\n",
    "    input_data.columns.name = None\n",
    "    corr_data = gs.gen_correlation_matrix(input_data, methods=[\"pearson\"], abs_corr=True)\n",
    "    corr_info[g] = corr_data\n",
    "    print(\"{} finished\".format(g))\n"
   ]
  },
  {
   "cell_type": "code",
   "execution_count": 8,
   "id": "1c22b9ac-b31e-4498-b7a4-e94e94d45738",
   "metadata": {},
   "outputs": [
    {
     "data": {
      "text/plain": [
       "dict_keys(['DMSO', 'DbET6', 'Jakafi', 'K784-3183', 'K784-3670', 'K975', 'Nuc', 'PF477736', 'VE-821'])"
      ]
     },
     "execution_count": 8,
     "metadata": {},
     "output_type": "execute_result"
    }
   ],
   "source": [
    "corr_info.keys()"
   ]
  },
  {
   "cell_type": "code",
   "execution_count": null,
   "id": "beb9fc6d-7dd1-45ca-a2ec-5ad9cbc74c60",
   "metadata": {},
   "outputs": [],
   "source": [
    "merged_corr = corr_info[\"DMSO\"][\"pearson\"].rename(columns={\"value\": \"DMSO\"})\n",
    "for g in groups[1:-1]:\n",
    "    temp = corr_info[g][\"pearson\"].rename(columns={\"value\": g})\n",
    "    merged_corr = pd.merge(merged_corr, temp, how=\"outer\", on=\"index\")"
   ]
  },
  {
   "cell_type": "code",
   "execution_count": null,
   "id": "68b58b83-0f0d-478f-8742-a1939123f214",
   "metadata": {},
   "outputs": [],
   "source": [
    "merged_corr.head()"
   ]
  },
  {
   "cell_type": "code",
   "execution_count": null,
   "id": "27bbcff4-edf2-41c1-aa23-f687ac518084",
   "metadata": {},
   "outputs": [],
   "source": []
  }
 ],
 "metadata": {
  "kernelspec": {
   "display_name": "Python 3 (ipykernel)",
   "language": "python",
   "name": "python3"
  },
  "language_info": {
   "codemirror_mode": {
    "name": "ipython",
    "version": 3
   },
   "file_extension": ".py",
   "mimetype": "text/x-python",
   "name": "python",
   "nbconvert_exporter": "python",
   "pygments_lexer": "ipython3",
   "version": "3.10.14"
  }
 },
 "nbformat": 4,
 "nbformat_minor": 5
}
