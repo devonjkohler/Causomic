{
 "cells": [
  {
   "cell_type": "markdown",
   "id": "41034e3f-1ffe-4d18-becb-f2edab84ed30",
   "metadata": {},
   "source": [
    "# Protein complex analysis\n",
    "\n",
    "**Goal** Determine if adding in protein complex information can clear up cycles in INDRA networks\n",
    "\n",
    "Steps\n",
    "- Where do we get complex info\n",
    "    - INDRA\n",
    "    - CORUM\n",
    "    - Other\n",
    "- Overlap between complexes and measured proteins\n",
    "    - Do we see full complexes, partial complexes, ect\n",
    "    - What about in INDRA networks\n",
    "- How do we calculate correlation between multiple variables?\n",
    "- Algorithm\n",
    "- Open questions\n",
    "    - How are complexes related to Up/Down regulation events in INDRA\n",
    "        - Are complexes connected in these events\n",
    "        - Do complexes correspond to highly connected areas of the graph\n",
    "    - Will interventional targets be involved in complexes\n",
    "    - How to numerically represent complexes\n",
    "        - mean\n",
    "        - sum\n",
    "        - blah\n"
   ]
  },
  {
   "cell_type": "code",
   "execution_count": 171,
   "id": "7d08155d-6bd1-414e-96f4-a5c16fb6c8ae",
   "metadata": {},
   "outputs": [],
   "source": [
    "import pandas as pd\n",
    "import numpy as np\n",
    "import networkx as nx\n",
    "\n",
    "from sklearn.decomposition import PCA\n",
    "\n",
    "import MScausality.data_analysis.gene_set as gs\n",
    "\n",
    "import matplotlib.pyplot as plt\n",
    "%matplotlib inline"
   ]
  },
  {
   "cell_type": "markdown",
   "id": "cae4f595-5e88-4cb3-b843-9cc8e2f7e13f",
   "metadata": {},
   "source": [
    "## Where do we get complex info\n",
    "\n",
    "Right now just from CORUM bc easy flat file\n",
    "\n",
    "This could (and probably should) be pulled from INDRA"
   ]
  },
  {
   "cell_type": "code",
   "execution_count": 3,
   "id": "8c427c8f-bea9-4514-9286-c2b0b97f28af",
   "metadata": {},
   "outputs": [],
   "source": [
    "complex_info = pd.read_csv(\"../../data/complex_data/humanComplexes.txt\", sep=\"\\t\")"
   ]
  },
  {
   "cell_type": "code",
   "execution_count": 112,
   "id": "d4a253ca-af40-478b-beae-ecbad2dc79ac",
   "metadata": {},
   "outputs": [
    {
     "data": {
      "text/html": [
       "<div>\n",
       "<style scoped>\n",
       "    .dataframe tbody tr th:only-of-type {\n",
       "        vertical-align: middle;\n",
       "    }\n",
       "\n",
       "    .dataframe tbody tr th {\n",
       "        vertical-align: top;\n",
       "    }\n",
       "\n",
       "    .dataframe thead th {\n",
       "        text-align: right;\n",
       "    }\n",
       "</style>\n",
       "<table border=\"1\" class=\"dataframe\">\n",
       "  <thead>\n",
       "    <tr style=\"text-align: right;\">\n",
       "      <th></th>\n",
       "      <th>ComplexID</th>\n",
       "      <th>ComplexName</th>\n",
       "      <th>Organism</th>\n",
       "      <th>Synonyms</th>\n",
       "      <th>Cell line</th>\n",
       "      <th>subunits(UniProt IDs)</th>\n",
       "      <th>subunits(Entrez IDs)</th>\n",
       "      <th>Protein complex purification method</th>\n",
       "      <th>GO ID</th>\n",
       "      <th>GO description</th>\n",
       "      <th>FunCat ID</th>\n",
       "      <th>FunCat description</th>\n",
       "      <th>PubMed ID</th>\n",
       "      <th>Complex comment</th>\n",
       "      <th>Disease comment</th>\n",
       "      <th>Subunits comment</th>\n",
       "      <th>SWISSPROT organism</th>\n",
       "      <th>subunits(Protein name)</th>\n",
       "      <th>subunits(Gene name)</th>\n",
       "      <th>subunits(Gene name syn)</th>\n",
       "    </tr>\n",
       "  </thead>\n",
       "  <tbody>\n",
       "    <tr>\n",
       "      <th>0</th>\n",
       "      <td>1</td>\n",
       "      <td>BCL6-HDAC4 complex</td>\n",
       "      <td>Human</td>\n",
       "      <td>None</td>\n",
       "      <td>U2OS osteosarcoma-derived UTA-L cells</td>\n",
       "      <td>P41182;P56524</td>\n",
       "      <td>604;9759</td>\n",
       "      <td>MI:0007-anti tag coimmunoprecipitation</td>\n",
       "      <td>GO:0006265;GO:0045892;GO:0051276;GO:0030183;GO...</td>\n",
       "      <td>DNA topological change;negative regulation of ...</td>\n",
       "      <td>10.01.09.05;11.02.03.04.03;42.10.03;43.03.07.0...</td>\n",
       "      <td>DNA conformation modification (e.g. chromatin)...</td>\n",
       "      <td>11929873</td>\n",
       "      <td>Transcriptional repression by BCL6 is thought ...</td>\n",
       "      <td>None</td>\n",
       "      <td>None</td>\n",
       "      <td>Homo sapiens (Human);Homo sapiens (Human)</td>\n",
       "      <td>B-cell lymphoma 6 protein;Histone deacetylase 4</td>\n",
       "      <td>BCL6;HDAC4</td>\n",
       "      <td>BCL5 LAZ3 ZBTB27 ZNF51;KIAA0288</td>\n",
       "    </tr>\n",
       "    <tr>\n",
       "      <th>1</th>\n",
       "      <td>2</td>\n",
       "      <td>BCL6-HDAC5 complex</td>\n",
       "      <td>Human</td>\n",
       "      <td>None</td>\n",
       "      <td>U2OS osteosarcoma-derived UTA-L cells</td>\n",
       "      <td>P41182;Q9UQL6</td>\n",
       "      <td>604;10014</td>\n",
       "      <td>MI:0007-anti tag coimmunoprecipitation</td>\n",
       "      <td>GO:0006265;GO:0045892;GO:0051276;GO:0030183;GO...</td>\n",
       "      <td>DNA topological change;negative regulation of ...</td>\n",
       "      <td>10.01.09.05;11.02.03.04.03;42.10.03;43.03.07.0...</td>\n",
       "      <td>DNA conformation modification (e.g. chromatin)...</td>\n",
       "      <td>11929873</td>\n",
       "      <td>Transcriptional repression by BCL6 is thought ...</td>\n",
       "      <td>None</td>\n",
       "      <td>None</td>\n",
       "      <td>Homo sapiens (Human);Homo sapiens (Human)</td>\n",
       "      <td>B-cell lymphoma 6 protein;Histone deacetylase 5</td>\n",
       "      <td>BCL6;HDAC5</td>\n",
       "      <td>BCL5 LAZ3 ZBTB27 ZNF51;KIAA0600</td>\n",
       "    </tr>\n",
       "    <tr>\n",
       "      <th>2</th>\n",
       "      <td>3</td>\n",
       "      <td>BCL6-HDAC7 complex</td>\n",
       "      <td>Human</td>\n",
       "      <td>None</td>\n",
       "      <td>U2OS osteosarcoma-derived UTA-L cells</td>\n",
       "      <td>P41182;Q8WUI4</td>\n",
       "      <td>604;51564</td>\n",
       "      <td>MI:0007-anti tag coimmunoprecipitation</td>\n",
       "      <td>GO:0006265;GO:0045892;GO:0051276;GO:0030183;GO...</td>\n",
       "      <td>DNA topological change;negative regulation of ...</td>\n",
       "      <td>10.01.09.05;11.02.03.04.03;42.10.03;43.03.07.0...</td>\n",
       "      <td>DNA conformation modification (e.g. chromatin)...</td>\n",
       "      <td>11929873</td>\n",
       "      <td>Transcriptional repression by BCL6 is thought ...</td>\n",
       "      <td>None</td>\n",
       "      <td>None</td>\n",
       "      <td>Homo sapiens (Human);Homo sapiens (Human)</td>\n",
       "      <td>B-cell lymphoma 6 protein;Histone deacetylase 7</td>\n",
       "      <td>BCL6;HDAC7</td>\n",
       "      <td>BCL5 LAZ3 ZBTB27 ZNF51;HDAC7A</td>\n",
       "    </tr>\n",
       "    <tr>\n",
       "      <th>3</th>\n",
       "      <td>4</td>\n",
       "      <td>Multisubunit ACTR coactivator complex</td>\n",
       "      <td>Human</td>\n",
       "      <td>None</td>\n",
       "      <td>different human tissues and cancer cell lines</td>\n",
       "      <td>Q09472;Q92793;Q92831;Q9Y6Q9</td>\n",
       "      <td>2033;1387;8850;8202</td>\n",
       "      <td>MI:0004-affinity chromatography technology;MI:...</td>\n",
       "      <td>GO:0030374;GO:0004402</td>\n",
       "      <td>nuclear receptor coactivator activity;histone ...</td>\n",
       "      <td>None</td>\n",
       "      <td>None</td>\n",
       "      <td>9267036</td>\n",
       "      <td>Cofactor ACTR binds directly nuclear receptors...</td>\n",
       "      <td>None</td>\n",
       "      <td>None</td>\n",
       "      <td>Homo sapiens (Human);Homo sapiens (Human);Homo...</td>\n",
       "      <td>Histone acetyltransferase p300;CREB-binding pr...</td>\n",
       "      <td>EP300;CREBBP;KAT2B;NCOA3</td>\n",
       "      <td>P300;CBP;PCAF;AIB1 BHLHE42 RAC3 TRAM1</td>\n",
       "    </tr>\n",
       "    <tr>\n",
       "      <th>4</th>\n",
       "      <td>10</td>\n",
       "      <td>Condensin I complex</td>\n",
       "      <td>Human</td>\n",
       "      <td>13S condensin complex</td>\n",
       "      <td>HeLa cells</td>\n",
       "      <td>O95347;Q15003;Q15021;Q9BPX3;Q9NTJ3</td>\n",
       "      <td>10592;23397;9918;64151;10051</td>\n",
       "      <td>MI:0004-affinity chromatography technology;MI:...</td>\n",
       "      <td>GO:0000279;GO:0030261;GO:0007059;GO:0051276;GO...</td>\n",
       "      <td>M phase;chromosome condensation;chromosome seg...</td>\n",
       "      <td>10.03.01.01.11;10.03.04.03;10.03.04.05;42.10.0...</td>\n",
       "      <td>M phase;chromosome condensation;chromosome seg...</td>\n",
       "      <td>11136719</td>\n",
       "      <td>None</td>\n",
       "      <td>None</td>\n",
       "      <td>None</td>\n",
       "      <td>Homo sapiens (Human);Homo sapiens (Human);Homo...</td>\n",
       "      <td>Structural maintenance of chromosomes protein ...</td>\n",
       "      <td>SMC2;NCAPH;NCAPD2;NCAPG;SMC4</td>\n",
       "      <td>CAPE SMC2L1;BRRN BRRN1 CAPH KIAA0074;CAPD2 CNA...</td>\n",
       "    </tr>\n",
       "  </tbody>\n",
       "</table>\n",
       "</div>"
      ],
      "text/plain": [
       "   ComplexID                            ComplexName Organism  \\\n",
       "0          1                     BCL6-HDAC4 complex    Human   \n",
       "1          2                     BCL6-HDAC5 complex    Human   \n",
       "2          3                     BCL6-HDAC7 complex    Human   \n",
       "3          4  Multisubunit ACTR coactivator complex    Human   \n",
       "4         10                    Condensin I complex    Human   \n",
       "\n",
       "                Synonyms                                      Cell line  \\\n",
       "0                   None          U2OS osteosarcoma-derived UTA-L cells   \n",
       "1                   None          U2OS osteosarcoma-derived UTA-L cells   \n",
       "2                   None          U2OS osteosarcoma-derived UTA-L cells   \n",
       "3                   None  different human tissues and cancer cell lines   \n",
       "4  13S condensin complex                                     HeLa cells   \n",
       "\n",
       "                subunits(UniProt IDs)          subunits(Entrez IDs)  \\\n",
       "0                       P41182;P56524                      604;9759   \n",
       "1                       P41182;Q9UQL6                     604;10014   \n",
       "2                       P41182;Q8WUI4                     604;51564   \n",
       "3         Q09472;Q92793;Q92831;Q9Y6Q9           2033;1387;8850;8202   \n",
       "4  O95347;Q15003;Q15021;Q9BPX3;Q9NTJ3  10592;23397;9918;64151;10051   \n",
       "\n",
       "                 Protein complex purification method  \\\n",
       "0             MI:0007-anti tag coimmunoprecipitation   \n",
       "1             MI:0007-anti tag coimmunoprecipitation   \n",
       "2             MI:0007-anti tag coimmunoprecipitation   \n",
       "3  MI:0004-affinity chromatography technology;MI:...   \n",
       "4  MI:0004-affinity chromatography technology;MI:...   \n",
       "\n",
       "                                               GO ID  \\\n",
       "0  GO:0006265;GO:0045892;GO:0051276;GO:0030183;GO...   \n",
       "1  GO:0006265;GO:0045892;GO:0051276;GO:0030183;GO...   \n",
       "2  GO:0006265;GO:0045892;GO:0051276;GO:0030183;GO...   \n",
       "3                              GO:0030374;GO:0004402   \n",
       "4  GO:0000279;GO:0030261;GO:0007059;GO:0051276;GO...   \n",
       "\n",
       "                                      GO description  \\\n",
       "0  DNA topological change;negative regulation of ...   \n",
       "1  DNA topological change;negative regulation of ...   \n",
       "2  DNA topological change;negative regulation of ...   \n",
       "3  nuclear receptor coactivator activity;histone ...   \n",
       "4  M phase;chromosome condensation;chromosome seg...   \n",
       "\n",
       "                                           FunCat ID  \\\n",
       "0  10.01.09.05;11.02.03.04.03;42.10.03;43.03.07.0...   \n",
       "1  10.01.09.05;11.02.03.04.03;42.10.03;43.03.07.0...   \n",
       "2  10.01.09.05;11.02.03.04.03;42.10.03;43.03.07.0...   \n",
       "3                                               None   \n",
       "4  10.03.01.01.11;10.03.04.03;10.03.04.05;42.10.0...   \n",
       "\n",
       "                                  FunCat description  PubMed ID  \\\n",
       "0  DNA conformation modification (e.g. chromatin)...   11929873   \n",
       "1  DNA conformation modification (e.g. chromatin)...   11929873   \n",
       "2  DNA conformation modification (e.g. chromatin)...   11929873   \n",
       "3                                               None    9267036   \n",
       "4  M phase;chromosome condensation;chromosome seg...   11136719   \n",
       "\n",
       "                                     Complex comment Disease comment  \\\n",
       "0  Transcriptional repression by BCL6 is thought ...            None   \n",
       "1  Transcriptional repression by BCL6 is thought ...            None   \n",
       "2  Transcriptional repression by BCL6 is thought ...            None   \n",
       "3  Cofactor ACTR binds directly nuclear receptors...            None   \n",
       "4                                               None            None   \n",
       "\n",
       "  Subunits comment                                 SWISSPROT organism  \\\n",
       "0             None          Homo sapiens (Human);Homo sapiens (Human)   \n",
       "1             None          Homo sapiens (Human);Homo sapiens (Human)   \n",
       "2             None          Homo sapiens (Human);Homo sapiens (Human)   \n",
       "3             None  Homo sapiens (Human);Homo sapiens (Human);Homo...   \n",
       "4             None  Homo sapiens (Human);Homo sapiens (Human);Homo...   \n",
       "\n",
       "                              subunits(Protein name)  \\\n",
       "0    B-cell lymphoma 6 protein;Histone deacetylase 4   \n",
       "1    B-cell lymphoma 6 protein;Histone deacetylase 5   \n",
       "2    B-cell lymphoma 6 protein;Histone deacetylase 7   \n",
       "3  Histone acetyltransferase p300;CREB-binding pr...   \n",
       "4  Structural maintenance of chromosomes protein ...   \n",
       "\n",
       "            subunits(Gene name)  \\\n",
       "0                    BCL6;HDAC4   \n",
       "1                    BCL6;HDAC5   \n",
       "2                    BCL6;HDAC7   \n",
       "3      EP300;CREBBP;KAT2B;NCOA3   \n",
       "4  SMC2;NCAPH;NCAPD2;NCAPG;SMC4   \n",
       "\n",
       "                             subunits(Gene name syn)  \n",
       "0                    BCL5 LAZ3 ZBTB27 ZNF51;KIAA0288  \n",
       "1                    BCL5 LAZ3 ZBTB27 ZNF51;KIAA0600  \n",
       "2                      BCL5 LAZ3 ZBTB27 ZNF51;HDAC7A  \n",
       "3              P300;CBP;PCAF;AIB1 BHLHE42 RAC3 TRAM1  \n",
       "4  CAPE SMC2L1;BRRN BRRN1 CAPH KIAA0074;CAPD2 CNA...  "
      ]
     },
     "execution_count": 112,
     "metadata": {},
     "output_type": "execute_result"
    }
   ],
   "source": [
    "complex_info.head()"
   ]
  },
  {
   "cell_type": "code",
   "execution_count": 87,
   "id": "a8c1321d-d3ae-4bba-859b-1d8da873288d",
   "metadata": {},
   "outputs": [],
   "source": [
    "# dump complexes of a single protein\n",
    "complex_info = complex_info[complex_info[\"subunits(Gene name)\"].str.contains(\";\")].reset_index(drop=True)"
   ]
  },
  {
   "cell_type": "markdown",
   "id": "53282f21-af40-4d50-aa75-3eea3cad3f23",
   "metadata": {},
   "source": [
    "## Overlap between complexes and measured proteins"
   ]
  },
  {
   "cell_type": "markdown",
   "id": "f1aa622a-a0d8-4bfa-9757-ad5cf31036fa",
   "metadata": {},
   "source": [
    "Basically look at all measured proteins and calculate overlap percentages."
   ]
  },
  {
   "cell_type": "code",
   "execution_count": 114,
   "id": "266f8c7d-528d-4067-a632-c1214eda9e2c",
   "metadata": {},
   "outputs": [
    {
     "name": "stdout",
     "output_type": "stream",
     "text": [
      "Correlation matrix for pearson:\n"
     ]
    }
   ],
   "source": [
    "experimental_data = pd.read_csv(\"../../data/Talus/processed_data/ProteinLevelData.csv\")\n",
    "experimental_data = gs.prep_msstats_data(experimental_data, gene_map=None, parse_gene=True)\n",
    "corr_data = gs.gen_correlation_matrix(experimental_data, methods=[\"pearson\"], abs_corr=True)\n",
    "\n",
    "corr_data = corr_data[\"pearson\"]\n",
    "measured_proteins = corr_data.columns.values"
   ]
  },
  {
   "cell_type": "code",
   "execution_count": 161,
   "id": "0a68f636-0c83-4187-9de1-037d192fb079",
   "metadata": {},
   "outputs": [
    {
     "name": "stderr",
     "output_type": "stream",
     "text": [
      "/var/folders/v7/y32f7x653v9cx3jmt128bnhh0000gp/T/ipykernel_92981/594704512.py:25: RuntimeWarning: Mean of empty slice\n",
      "  corr_tracker[complex_info.loc[i, \"ComplexID\"]] = np.nanmean(np.unique(corr_data.loc[overlap, overlap].values.flatten()))\n"
     ]
    }
   ],
   "source": [
    "full_complex = list()\n",
    "partial_complex = list()\n",
    "percentage_tracker = list()\n",
    "corr_tracker = dict()\n",
    "\n",
    "def intersection(lst1, lst2):\n",
    "    lst3 = [value for value in lst1 if value in lst2]\n",
    "    return lst3\n",
    "    \n",
    "for i in range(len(complex_info)):\n",
    "    genes = complex_info.loc[i, \"subunits(Gene name)\"].split(\";\")\n",
    "    overlap = intersection(genes, measured_proteins)\n",
    "\n",
    "    if len(overlap) == len(genes):\n",
    "        full_complex.append(complex_info.loc[i, \"ComplexID\"])\n",
    "        percentage_tracker.append(1.)\n",
    "\n",
    "        corr_tracker[complex_info.loc[i, \"ComplexID\"]] = np.nanmean(np.unique(corr_data.loc[overlap, overlap].values.flatten()))\n",
    "    \n",
    "    elif len(overlap) > 0:\n",
    "        partial_complex.append(complex_info.loc[i, \"ComplexID\"])\n",
    "        percentage_tracker.append(len(overlap) / len(genes))\n",
    "\n",
    "        if len(overlap) > 1:\n",
    "            corr_tracker[complex_info.loc[i, \"ComplexID\"]] = np.nanmean(np.unique(corr_data.loc[overlap, overlap].values.flatten()))"
   ]
  },
  {
   "cell_type": "code",
   "execution_count": 155,
   "id": "e3b1f300-2adb-4a6f-9f4f-82e7e3130607",
   "metadata": {},
   "outputs": [
    {
     "data": {
      "text/plain": [
       "(array([  5.,  13.,  24.,  66., 108.,  22., 371.,  49.,  25., 466.,  17.,\n",
       "         55.,  19., 220., 103.,  44.,  18.,  27.,   3., 331.]),\n",
       " array([0.01282051, 0.06217949, 0.11153846, 0.16089744, 0.21025641,\n",
       "        0.25961538, 0.30897436, 0.35833333, 0.40769231, 0.45705128,\n",
       "        0.50641026, 0.55576923, 0.60512821, 0.65448718, 0.70384615,\n",
       "        0.75320513, 0.8025641 , 0.85192308, 0.90128205, 0.95064103,\n",
       "        1.        ]),\n",
       " <BarContainer object of 20 artists>)"
      ]
     },
     "execution_count": 155,
     "metadata": {},
     "output_type": "execute_result"
    },
    {
     "data": {
      "image/png": "[encoded data removed]",
      "text/plain": [
       "<Figure size 640x480 with 1 Axes>"
      ]
     },
     "metadata": {},
     "output_type": "display_data"
    }
   ],
   "source": [
    "fig, ax = plt.subplots()\n",
    "\n",
    "ax.hist(percentage_tracker, bins=20)"
   ]
  },
  {
   "cell_type": "code",
   "execution_count": 162,
   "id": "7b9a4e84-2339-4f56-8cd0-c18ead0639b2",
   "metadata": {},
   "outputs": [
    {
     "data": {
      "text/plain": [
       "(array([ 72., 114., 122., 164., 112., 128., 137.,  80.,  44.,  42.,  22.,\n",
       "         21.,  21.,   9.,   4.,   5.,   3.,   5.,   0.,   1.]),\n",
       " array([1.23770736e-04, 5.01175822e-02, 1.00111394e-01, 1.50105205e-01,\n",
       "        2.00099017e-01, 2.50092828e-01, 3.00086640e-01, 3.50080451e-01,\n",
       "        4.00074262e-01, 4.50068074e-01, 5.00061885e-01, 5.50055697e-01,\n",
       "        6.00049508e-01, 6.50043320e-01, 7.00037131e-01, 7.50030943e-01,\n",
       "        8.00024754e-01, 8.50018566e-01, 9.00012377e-01, 9.50006189e-01,\n",
       "        1.00000000e+00]),\n",
       " <BarContainer object of 20 artists>)"
      ]
     },
     "execution_count": 162,
     "metadata": {},
     "output_type": "execute_result"
    },
    {
     "data": {
      "image/png": "[encoded data removed]",
      "text/plain": [
       "<Figure size 640x480 with 1 Axes>"
      ]
     },
     "metadata": {},
     "output_type": "display_data"
    }
   ],
   "source": [
    "fig, ax = plt.subplots()\n",
    "\n",
    "ax.hist(corr_tracker.values(), bins=20)"
   ]
  },
  {
   "cell_type": "code",
   "execution_count": 93,
   "id": "0c58ab7c-81d3-423c-a803-66a3d476891f",
   "metadata": {},
   "outputs": [
    {
     "name": "stdout",
     "output_type": "stream",
     "text": [
      "Full complex:  0.0921235736153632\n",
      "Partial complex:  0.46061786807681604\n",
      "Any complex:  0.5527414416921792\n"
     ]
    }
   ],
   "source": [
    "print(\"Full complex: \", len(full_complex) / len(complex_info))\n",
    "print(\"Partial complex: \", len(partial_complex) / len(complex_info))\n",
    "print(\"Any complex: \", (len(partial_complex) + len(full_complex)) / len(complex_info))"
   ]
  },
  {
   "cell_type": "markdown",
   "id": "f2c430c8-1d82-4e6e-b54f-f8a54fa152b5",
   "metadata": {},
   "source": [
    "### What about in INDRA networks"
   ]
  },
  {
   "cell_type": "markdown",
   "id": "f7dff081-6e02-4139-813c-7d96911ab153",
   "metadata": {},
   "source": [
    "#### Load INDRA network"
   ]
  },
  {
   "cell_type": "code",
   "execution_count": 94,
   "id": "94c5b1a6-ad37-4750-a86b-396bc3a88681",
   "metadata": {},
   "outputs": [],
   "source": [
    "indra_network = pd.read_csv(\"../../data/INDRA_networks/Talus_networks/MORF_CCNI_obs.tsv\", sep=\"\\t\")"
   ]
  },
  {
   "cell_type": "code",
   "execution_count": 95,
   "id": "b90fa71a-6407-4183-b6c5-52d546277cae",
   "metadata": {
    "scrolled": true
   },
   "outputs": [],
   "source": [
    "indra_proteins = list(set(list(indra_network[\"source_hgnc_symbol\"]) + list(indra_network[\"target_hgnc_symbol\"])))"
   ]
  },
  {
   "cell_type": "markdown",
   "id": "dd61974b-5c2c-45f8-b78d-4d8622a6025c",
   "metadata": {},
   "source": [
    "#### Check out overlap"
   ]
  },
  {
   "cell_type": "code",
   "execution_count": 96,
   "id": "59a91b68-8d07-48cc-b463-6af5f860b720",
   "metadata": {},
   "outputs": [],
   "source": [
    "full_complex = list()\n",
    "partial_complex = list()\n",
    "percentage_tracker = list()\n",
    "\n",
    "def intersection(lst1, lst2):\n",
    "    lst3 = [value for value in lst1 if value in lst2]\n",
    "    return lst3\n",
    "    \n",
    "for i in range(len(complex_info)):\n",
    "    genes = complex_info.loc[i, \"subunits(Gene name)\"].split(\";\")\n",
    "    overlap = intersection(genes, indra_proteins)\n",
    "\n",
    "    if len(overlap) == len(genes):\n",
    "        full_complex.append(complex_info.loc[i, \"ComplexID\"])\n",
    "        percentage_tracker.append(1.)\n",
    "    elif len(overlap) > 0:\n",
    "        partial_complex.append(complex_info.loc[i, \"ComplexID\"])\n",
    "        percentage_tracker.append(len(overlap) / len(genes))"
   ]
  },
  {
   "cell_type": "code",
   "execution_count": 97,
   "id": "2f8fe810-1e55-4470-bb8a-413ef0cd1f0a",
   "metadata": {},
   "outputs": [
    {
     "data": {
      "text/plain": [
       "(array([ 13.,  30.,  26.,  47.,  72.,   6., 254.,  14.,   7., 193.,   0.,\n",
       "         11.,   2.,  70.,   5.,   4.,   0.,   0.,   0.,  61.]),\n",
       " array([0.00961538, 0.05913462, 0.10865385, 0.15817308, 0.20769231,\n",
       "        0.25721154, 0.30673077, 0.35625   , 0.40576923, 0.45528846,\n",
       "        0.50480769, 0.55432692, 0.60384615, 0.65336538, 0.70288462,\n",
       "        0.75240385, 0.80192308, 0.85144231, 0.90096154, 0.95048077,\n",
       "        1.        ]),\n",
       " <BarContainer object of 20 artists>)"
      ]
     },
     "execution_count": 97,
     "metadata": {},
     "output_type": "execute_result"
    },
    {
     "data": {
      "image/png": "[encoded data removed]",
      "text/plain": [
       "<Figure size 640x480 with 1 Axes>"
      ]
     },
     "metadata": {},
     "output_type": "display_data"
    }
   ],
   "source": [
    "fig, ax = plt.subplots()\n",
    "\n",
    "ax.hist(percentage_tracker, bins=20)"
   ]
  },
  {
   "cell_type": "code",
   "execution_count": 98,
   "id": "1800c069-cc96-4a72-b0fd-8a52cb3b7ffc",
   "metadata": {},
   "outputs": [
    {
     "name": "stdout",
     "output_type": "stream",
     "text": [
      "Full complex:  61\n",
      "Partial complex:  754\n",
      "Any complex:  815\n"
     ]
    }
   ],
   "source": [
    "print(\"Full complex: \", len(full_complex))\n",
    "print(\"Partial complex: \", len(partial_complex))\n",
    "print(\"Any complex: \", (len(partial_complex) + len(full_complex)))"
   ]
  },
  {
   "cell_type": "markdown",
   "id": "96091e87-0a90-45a3-b909-1d7f48b50549",
   "metadata": {},
   "source": [
    "## Calculate correlation between multiple variables"
   ]
  },
  {
   "cell_type": "code",
   "execution_count": 185,
   "id": "d573432a-403d-4479-8c88-c648700bcf48",
   "metadata": {},
   "outputs": [
    {
     "data": {
      "text/plain": [
       "<matplotlib.collections.PathCollection at 0x16ca65c90>"
      ]
     },
     "execution_count": 185,
     "metadata": {},
     "output_type": "execute_result"
    },
    {
     "data": {
      "image/png": "[encoded data removed]",
      "text/plain": [
       "<Figure size 1200x800 with 3 Axes>"
      ]
     },
     "metadata": {},
     "output_type": "display_data"
    }
   ],
   "source": [
    "temp_genes = complex_info.loc[complex_info[\"ComplexID\"] == 12, \n",
    "                                  \"subunits(Gene name)\"].values[0].split(\";\")\n",
    "dataz = experimental_data.loc[:, temp_genes].dropna().values\n",
    "\n",
    "fig, ax = plt.subplots(1,3, figsize=(12,8))\n",
    "\n",
    "ax[0].scatter(dataz[:, 0], dataz[:, 1])\n",
    "ax[1].scatter(dataz[:, 0], dataz[:, 2])\n",
    "ax[2].scatter(dataz[:, 1], dataz[:, 2])"
   ]
  },
  {
   "cell_type": "code",
   "execution_count": 181,
   "id": "dfd0d59f-c593-4bd9-9f61-96b2d51a1934",
   "metadata": {},
   "outputs": [
    {
     "data": {
      "text/plain": [
       "12"
      ]
     },
     "execution_count": 181,
     "metadata": {},
     "output_type": "execute_result"
    }
   ],
   "source": [
    "full_complex[0]"
   ]
  },
  {
   "cell_type": "code",
   "execution_count": 196,
   "id": "628fe73b-afe1-4da4-bcdd-98b3c0627477",
   "metadata": {
    "scrolled": true
   },
   "outputs": [],
   "source": [
    "pca_corr = list()\n",
    "\n",
    "for i in full_complex:\n",
    "    temp_genes = complex_info.loc[complex_info[\"ComplexID\"] == i, \n",
    "                                  \"subunits(Gene name)\"].values[0].split(\";\")\n",
    "    pca = PCA(n_components=1)\n",
    "    pca.fit(experimental_data.loc[:, temp_genes].dropna().values)\n",
    "    pca_corr.append(pca.explained_variance_)"
   ]
  },
  {
   "cell_type": "code",
   "execution_count": 197,
   "id": "40eb7d68-bfba-492e-ac1e-87706d90c3fe",
   "metadata": {},
   "outputs": [
    {
     "data": {
      "text/plain": [
       "(array([74., 91., 54., 42., 23., 14.,  3.,  6.,  8.,  6.,  1.,  2.,  3.,\n",
       "         0.,  2.,  0.,  0.,  0.,  0.,  2.]),\n",
       " array([0.04469909, 0.14839656, 0.25209402, 0.35579148, 0.45948894,\n",
       "        0.56318641, 0.66688387, 0.77058133, 0.87427879, 0.97797626,\n",
       "        1.08167372, 1.18537118, 1.28906865, 1.39276611, 1.49646357,\n",
       "        1.60016103, 1.7038585 , 1.80755596, 1.91125342, 2.01495088,\n",
       "        2.11864835]),\n",
       " <BarContainer object of 20 artists>)"
      ]
     },
     "execution_count": 197,
     "metadata": {},
     "output_type": "execute_result"
    },
    {
     "data": {
      "image/png": "[encoded data removed]",
      "text/plain": [
       "<Figure size 640x480 with 1 Axes>"
      ]
     },
     "metadata": {},
     "output_type": "display_data"
    }
   ],
   "source": [
    "fig, ax = plt.subplots()\n",
    "ax.hist(np.array(pca_corr), bins=20)"
   ]
  },
  {
   "cell_type": "markdown",
   "id": "a011a3d1-69ef-4295-877e-cdaf695a35f9",
   "metadata": {},
   "source": [
    "## Algorithm to include complexes in graph"
   ]
  },
  {
   "cell_type": "markdown",
   "id": "b6c01c91-2c2a-42ea-ba43-67b1d7f6ec29",
   "metadata": {},
   "source": [
    "    Input: Nodes, Complexes, Correlations, correlation_cutoff, partial_obs_cutoff\n",
    "\n",
    "    Nodes - List of proteins in graph\n",
    "    Complexes - List of lists including all possible protein complexes in Nodes\n",
    "    Correlations - Matrix of correlations within complexes\n",
    "    correlation_cutoff - Cutoff for including\n",
    "    partial_obs_cutoff - Cutoff for how many nodes in a complex to keep\n",
    "\n",
    "    present_complexes = list()\n",
    "    \n",
    "    for c in Complexes:\n",
    "    \n",
    "        overlap = intersect(c, nodes)\n",
    "    \n",
    "        // Check if full complex is available\n",
    "        if len(overlap) == len(c) & Correlations[c] > coorelation_cutoff:\n",
    "            present_complexes.append(c)\n",
    "\n",
    "        elif len(overlap) / len(c) > partial_obs_cutoff & Correlations[c] > coorelation_cutoff:\n",
    "            present_complexes.append(c)\n",
    "        \n",
    "        \n",
    "\n",
    "\n",
    "\n",
    "\n",
    "edges cases:\n",
    "- what if complex is partially observed but high correlation (where is cutoff)\n",
    "- what if complex is fully observed but low correlation (where is cutoff)\n",
    "- what if there are multiple complexes including same nodes?"
   ]
  },
  {
   "cell_type": "markdown",
   "id": "cd1228d0-9e59-4619-89fe-524255e97761",
   "metadata": {
    "collapsed": true,
    "jupyter": {
     "outputs_hidden": true
    }
   },
   "source": [
    "## Open Qs"
   ]
  },
  {
   "cell_type": "markdown",
   "id": "03a861c5-2049-4e07-8693-691d52765fc7",
   "metadata": {},
   "source": [
    "### Connections in INDRA with Up/Down events"
   ]
  },
  {
   "cell_type": "markdown",
   "id": "ead2e1cf-d665-4dd3-aeb7-66f68a903dbc",
   "metadata": {},
   "source": [
    "Make indra into a networkx graph"
   ]
  },
  {
   "cell_type": "code",
   "execution_count": 105,
   "id": "2eaeb2b4-a14a-40af-96b5-ed528cd2cbab",
   "metadata": {},
   "outputs": [],
   "source": [
    "G = nx.DiGraph()\n",
    "for i in range(len(indra_network)):\n",
    "    G.add_edge(indra_network.loc[i, \"source_hgnc_symbol\"],\n",
    "               indra_network.loc[i, \"target_hgnc_symbol\"])"
   ]
  },
  {
   "cell_type": "code",
   "execution_count": 111,
   "id": "633a5c7c-5517-4820-b7c3-485160dbec09",
   "metadata": {
    "scrolled": true
   },
   "outputs": [
    {
     "name": "stdout",
     "output_type": "stream",
     "text": [
      "None\n",
      "['SPI1', 'HDAC1', 'SIN3A']\n",
      "None\n",
      "['RB1', 'DNMT1', 'E2F1', 'HDAC1']\n",
      "None\n",
      "['BRCA1', 'HDAC1', 'HDAC2']\n",
      "None\n",
      "['HDAC1', 'HDAC2', 'SIN3A']\n",
      "None\n",
      "['RB1', 'HDAC1']\n"
     ]
    },
    {
     "data": {
      "image/png": "[encoded data removed]",
      "text/plain": [
       "<Figure size 640x480 with 1 Axes>"
      ]
     },
     "metadata": {},
     "output_type": "display_data"
    },
    {
     "data": {
      "image/png": "[encoded data removed]",
      "text/plain": [
       "<Figure size 640x480 with 1 Axes>"
      ]
     },
     "metadata": {},
     "output_type": "display_data"
    },
    {
     "data": {
      "image/png": "[encoded data removed]",
      "text/plain": [
       "<Figure size 640x480 with 1 Axes>"
      ]
     },
     "metadata": {},
     "output_type": "display_data"
    },
    {
     "data": {
      "image/png": "[encoded data removed]",
      "text/plain": [
       "<Figure size 640x480 with 1 Axes>"
      ]
     },
     "metadata": {},
     "output_type": "display_data"
    },
    {
     "data": {
      "image/png": "[encoded data removed]",
      "text/plain": [
       "<Figure size 640x480 with 1 Axes>"
      ]
     },
     "metadata": {},
     "output_type": "display_data"
    }
   ],
   "source": [
    "for i in range(len(full_complex)):\n",
    "    genes = complex_info.loc[complex_info[\"ComplexID\"] == full_complex[i], \n",
    "                \"subunits(Gene name)\"].values[0].split(\";\")\n",
    "    \n",
    "    subset_net = indra_network[indra_network[\"source_hgnc_symbol\"].isin(genes) & \n",
    "                               indra_network[\"target_hgnc_symbol\"].isin(genes)].reset_index(drop=True)\n",
    "    \n",
    "    if len(subset_net) > 0:\n",
    "        G = nx.DiGraph()\n",
    "        for i in range(len(subset_net)):\n",
    "            G.add_edge(subset_net.loc[i, \"source_hgnc_symbol\"],\n",
    "                       subset_net.loc[i, \"target_hgnc_symbol\"])\n",
    "        fig, ax = plt.subplots()\n",
    "        print(nx.draw(G))\n",
    "        print(genes)"
   ]
  },
  {
   "cell_type": "code",
   "execution_count": null,
   "id": "bf655a78-e7ae-4c99-8ce0-84c2a2588448",
   "metadata": {},
   "outputs": [],
   "source": []
  }
 ],
 "metadata": {
  "kernelspec": {
   "display_name": "Python 3 (ipykernel)",
   "language": "python",
   "name": "python3"
  },
  "language_info": {
   "codemirror_mode": {
    "name": "ipython",
    "version": 3
   },
   "file_extension": ".py",
   "mimetype": "text/x-python",
   "name": "python",
   "nbconvert_exporter": "python",
   "pygments_lexer": "ipython3",
   "version": "3.11.7"
  }
 },
 "nbformat": 4,
 "nbformat_minor": 5
}
