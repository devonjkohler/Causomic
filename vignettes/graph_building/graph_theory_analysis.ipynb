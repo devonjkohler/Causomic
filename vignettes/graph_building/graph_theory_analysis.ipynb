{
 "cells": [
  {
   "cell_type": "markdown",
   "metadata": {},
   "source": [
    "# Graph Theory Analysis\n",
    "\n",
    "Overview\n",
    "\n",
    "This notebook investigates whether classic graph theory algorithms can be used to reduce a complex Indra network to a DAG.\n",
    "\n",
    "General idea is to take a directed graph which contains cycles, add weights to the edges, and use a graph algorithm to remove edges according to weights until graph is acyclic.\n",
    "\n",
    "Input\n",
    "- Directed graph (extracted from INDRA relationship statements)\n",
    "- INDRA evidence count\n",
    "- Experimental correlations\n",
    "\n",
    "Output\n",
    "- Directed Acyclic Graph (DAG)"
   ]
  },
  {
   "cell_type": "markdown",
   "metadata": {},
   "source": []
  }
 ],
 "metadata": {
  "kernelspec": {
   "display_name": "Python 3 (ipykernel)",
   "language": "python",
   "name": "python3"
  },
  "language_info": {
   "codemirror_mode": {
    "name": "ipython",
    "version": 3
   },
   "file_extension": ".py",
   "mimetype": "text/x-python",
   "name": "python",
   "nbconvert_exporter": "python",
   "pygments_lexer": "ipython3",
   "version": "3.9.7"
  }
 },
 "nbformat": 4,
 "nbformat_minor": 4
}
