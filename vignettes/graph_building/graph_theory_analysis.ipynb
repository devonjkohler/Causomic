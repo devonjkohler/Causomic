{
 "cells": [
  {
   "cell_type": "markdown",
   "metadata": {},
   "source": [
    "# Graph Theory Analysis\n",
    "\n",
    "Overview\n",
    "\n",
    "This notebook investigates whether classic graph theory algorithms can be used to reduce a complex Indra network to a DAG.\n",
    "\n",
    "General idea is to take a directed graph which contains cycles, add weights to the edges, and use a graph algorithm to remove edges according to weights until graph is acyclic.\n",
    "\n",
    "Input\n",
    "- Directed graph (extracted from INDRA relationship statements)\n",
    "- INDRA evidence count\n",
    "- Experimental correlations\n",
    "\n",
    "Output\n",
    "- Directed Acyclic Graph (DAG)"
   ]
  },
  {
   "cell_type": "markdown",
   "metadata": {},
   "source": []
  }
 ],
 "metadata": {
  "language_info": {
   "name": "python"
  }
 },
 "nbformat": 4,
 "nbformat_minor": 2
}
