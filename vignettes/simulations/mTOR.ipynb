{
 "cells": [
  {
   "cell_type": "code",
   "execution_count": 1,
   "metadata": {},
   "outputs": [
    {
     "ename": "ImportError",
     "evalue": "cannot import name 'get_neighbor_network' from 'indra_cogex.client.subnetwork' (/Users/kohler.d/opt/anaconda3/envs/MScausality/lib/python3.11/site-packages/indra_cogex/client/subnetwork.py)",
     "output_type": "error",
     "traceback": [
      "\u001b[0;31m---------------------------------------------------------------------------\u001b[0m",
      "\u001b[0;31mImportError\u001b[0m                               Traceback (most recent call last)",
      "Cell \u001b[0;32mIn[1], line 1\u001b[0m\n\u001b[0;32m----> 1\u001b[0m \u001b[38;5;28;01mfrom\u001b[39;00m \u001b[38;5;21;01mMScausality\u001b[39;00m\u001b[38;5;21;01m.\u001b[39;00m\u001b[38;5;21;01mgraph_construction\u001b[39;00m\u001b[38;5;21;01m.\u001b[39;00m\u001b[38;5;21;01msingle_node\u001b[39;00m \u001b[38;5;28;01mimport\u001b[39;00m build_network\n",
      "File \u001b[0;32m~/Library/CloudStorage/OneDrive-NortheasternUniversity/Northeastern/Research/Causal_Inference/MS_causal_inference/MScausality/src/MScausality/graph_construction/single_node.py:3\u001b[0m\n\u001b[1;32m      2\u001b[0m \u001b[38;5;28;01mfrom\u001b[39;00m \u001b[38;5;21;01mindra\u001b[39;00m\u001b[38;5;21;01m.\u001b[39;00m\u001b[38;5;21;01mdatabases\u001b[39;00m\u001b[38;5;21;01m.\u001b[39;00m\u001b[38;5;21;01mhgnc_client\u001b[39;00m \u001b[38;5;28;01mimport\u001b[39;00m get_uniprot_id, get_hgnc_id, get_hgnc_name\n\u001b[0;32m----> 3\u001b[0m \u001b[38;5;28;01mfrom\u001b[39;00m \u001b[38;5;21;01mindra_cogex\u001b[39;00m\u001b[38;5;21;01m.\u001b[39;00m\u001b[38;5;21;01mclient\u001b[39;00m\u001b[38;5;21;01m.\u001b[39;00m\u001b[38;5;21;01msubnetwork\u001b[39;00m \u001b[38;5;28;01mimport\u001b[39;00m get_neighbor_network\n\u001b[1;32m      4\u001b[0m \u001b[38;5;28;01mfrom\u001b[39;00m \u001b[38;5;21;01mindra_cogex\u001b[39;00m\u001b[38;5;21;01m.\u001b[39;00m\u001b[38;5;21;01mclient\u001b[39;00m \u001b[38;5;28;01mimport\u001b[39;00m Neo4jClient\n\u001b[1;32m      6\u001b[0m \u001b[38;5;28;01mfrom\u001b[39;00m \u001b[38;5;21;01mprotmapper\u001b[39;00m \u001b[38;5;28;01mimport\u001b[39;00m uniprot_client\n",
      "\u001b[0;31mImportError\u001b[0m: cannot import name 'get_neighbor_network' from 'indra_cogex.client.subnetwork' (/Users/kohler.d/opt/anaconda3/envs/MScausality/lib/python3.11/site-packages/indra_cogex/client/subnetwork.py)"
     ]
    }
   ],
   "source": [
    "from MScausality.graph_construction.single_node import build_network"
   ]
  },
  {
   "cell_type": "code",
   "execution_count": null,
   "metadata": {},
   "outputs": [],
   "source": [
    "# network = build_network([\"MYC\"], \"gene\", client, \n",
    "    #                         evidence_count=[85, 80, 70,50], levels=4,\n",
    "    #                         upstream=True, downstream=[True, False, False, False])"
   ]
  },
  {
   "cell_type": "code",
   "execution_count": 7,
   "metadata": {},
   "outputs": [],
   "source": [
    "def test(upstream, downstream):\n",
    "    if upstream and downstream:\n",
    "        q = \"p=(n2:BioEntity)-[r1:indra_rel]->(n1:BioEntity)<-[r2:indra_rel]-(n3:BioEntity)\"\n",
    "    elif upstream and not downstream:\n",
    "        q = \"p=(n2:BioEntity)-[r1:indra_rel]->(n1:BioEntity)\"\n",
    "    elif not upstream and downstream:\n",
    "        q = \"p=(n1:BioEntity)<-[r2:indra_rel]-(n3:BioEntity)\"\n",
    "    else:\n",
    "        raise Exception(\"Either upstream or downstream must be True\")\n",
    "    return q"
   ]
  },
  {
   "cell_type": "code",
   "execution_count": 10,
   "metadata": {},
   "outputs": [
    {
     "data": {
      "text/plain": [
       "'p=(n1:BioEntity)<-[r2:indra_rel]-(n3:BioEntity)'"
      ]
     },
     "execution_count": 10,
     "metadata": {},
     "output_type": "execute_result"
    }
   ],
   "source": [
    "test(False, True)"
   ]
  },
  {
   "cell_type": "code",
   "execution_count": null,
   "metadata": {},
   "outputs": [],
   "source": []
  }
 ],
 "metadata": {
  "kernelspec": {
   "display_name": "MScausality",
   "language": "python",
   "name": "python3"
  },
  "language_info": {
   "codemirror_mode": {
    "name": "ipython",
    "version": 3
   },
   "file_extension": ".py",
   "mimetype": "text/x-python",
   "name": "python",
   "nbconvert_exporter": "python",
   "pygments_lexer": "ipython3",
   "version": "3.11.7"
  }
 },
 "nbformat": 4,
 "nbformat_minor": 2
}
